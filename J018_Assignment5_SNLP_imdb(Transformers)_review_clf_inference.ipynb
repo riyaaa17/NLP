{
  "metadata": {
    "kernelspec": {
      "language": "python",
      "display_name": "Python 3",
      "name": "python3"
    },
    "language_info": {
      "name": "python",
      "version": "3.10.13",
      "mimetype": "text/x-python",
      "codemirror_mode": {
        "name": "ipython",
        "version": 3
      },
      "pygments_lexer": "ipython3",
      "nbconvert_exporter": "python",
      "file_extension": ".py"
    },
    "kaggle": {
      "accelerator": "none",
      "dataSources": [
        {
          "sourceId": 320111,
          "sourceType": "datasetVersion",
          "datasetId": 134715
        },
        {
          "sourceId": 193034089,
          "sourceType": "kernelVersion"
        }
      ],
      "dockerImageVersionId": 30746,
      "isInternetEnabled": true,
      "language": "python",
      "sourceType": "notebook",
      "isGpuEnabled": false
    },
    "colab": {
      "provenance": []
    }
  },
  "nbformat_minor": 0,
  "nbformat": 4,
  "cells": [
    {
      "cell_type": "code",
      "source": [
        "import torch\n",
        "import transformers\n",
        "import pandas as pd\n",
        "import numpy as np\n",
        "\n",
        "from sklearn import model_selection, metrics"
      ],
      "metadata": {
        "_uuid": "8f2839f25d086af736a60e9eeb907d3b93b6e0e5",
        "_cell_guid": "b1076dfc-b9ad-4769-8c92-a6c4dae69d19",
        "execution": {
          "iopub.status.busy": "2024-08-18T05:03:28.582389Z",
          "iopub.execute_input": "2024-08-18T05:03:28.583280Z",
          "iopub.status.idle": "2024-08-18T05:03:33.922301Z",
          "shell.execute_reply.started": "2024-08-18T05:03:28.583237Z",
          "shell.execute_reply": "2024-08-18T05:03:33.921147Z"
        },
        "trusted": true,
        "id": "kVq_nzagJegc"
      },
      "execution_count": null,
      "outputs": []
    },
    {
      "cell_type": "code",
      "source": [
        "class TextDataset:\n",
        "\n",
        "    def __init__(self, data):\n",
        "        self.data = data\n",
        "\n",
        "    def __len__(self):\n",
        "        return self.data.shape[0]\n",
        "\n",
        "    def __getitem__(self, idx):\n",
        "        row = self.data.iloc[idx]\n",
        "\n",
        "        enc = tokenizer(\n",
        "            row[\"text\"],\n",
        "            max_length=10,\n",
        "            truncation=True,\n",
        "            padding=\"max_length\"\n",
        "        )\n",
        "\n",
        "        return {\n",
        "            \"input_ids\": torch.tensor(enc[\"input_ids\"]),\n",
        "            \"attention_mask\": torch.tensor(enc[\"attention_mask\"]),\n",
        "            # \"label\": torch.tensor(row[\"label\"]),\n",
        "        }"
      ],
      "metadata": {
        "execution": {
          "iopub.status.busy": "2024-08-18T05:13:47.853197Z",
          "iopub.execute_input": "2024-08-18T05:13:47.853565Z",
          "iopub.status.idle": "2024-08-18T05:13:47.861904Z",
          "shell.execute_reply.started": "2024-08-18T05:13:47.853537Z",
          "shell.execute_reply": "2024-08-18T05:13:47.860659Z"
        },
        "trusted": true,
        "id": "ZhLLQN1QJegd"
      },
      "execution_count": null,
      "outputs": []
    },
    {
      "cell_type": "code",
      "source": [
        "df = pd.read_csv(\"/kaggle/input/imdb-dataset-of-50k-movie-reviews/IMDB Dataset.csv\").rename(columns={\"review\": \"text\"})\n",
        "\n",
        "id2label = {0: \"negative\", 1: \"positive\"}\n",
        "label2id = {label: id_ for id_, label in id2label.items()}\n",
        "\n",
        "df[\"label\"] = df[\"sentiment\"].map(label2id)\n",
        "\n",
        "print(df.shape)\n",
        "df.head()"
      ],
      "metadata": {
        "execution": {
          "iopub.status.busy": "2024-08-18T05:13:48.035857Z",
          "iopub.execute_input": "2024-08-18T05:13:48.036843Z",
          "iopub.status.idle": "2024-08-18T05:13:48.815119Z",
          "shell.execute_reply.started": "2024-08-18T05:13:48.036809Z",
          "shell.execute_reply": "2024-08-18T05:13:48.813986Z"
        },
        "trusted": true,
        "id": "FBPKPOdgJege",
        "outputId": "8ae5d7da-944a-48a9-ef88-cde5fceb7984"
      },
      "execution_count": null,
      "outputs": [
        {
          "name": "stdout",
          "text": "(50000, 3)\n",
          "output_type": "stream"
        },
        {
          "execution_count": 24,
          "output_type": "execute_result",
          "data": {
            "text/plain": "                                                text sentiment  label\n0  One of the other reviewers has mentioned that ...  positive      1\n1  A wonderful little production. <br /><br />The...  positive      1\n2  I thought this was a wonderful way to spend ti...  positive      1\n3  Basically there's a family where a little boy ...  negative      0\n4  Petter Mattei's \"Love in the Time of Money\" is...  positive      1",
            "text/html": "<div>\n<style scoped>\n    .dataframe tbody tr th:only-of-type {\n        vertical-align: middle;\n    }\n\n    .dataframe tbody tr th {\n        vertical-align: top;\n    }\n\n    .dataframe thead th {\n        text-align: right;\n    }\n</style>\n<table border=\"1\" class=\"dataframe\">\n  <thead>\n    <tr style=\"text-align: right;\">\n      <th></th>\n      <th>text</th>\n      <th>sentiment</th>\n      <th>label</th>\n    </tr>\n  </thead>\n  <tbody>\n    <tr>\n      <th>0</th>\n      <td>One of the other reviewers has mentioned that ...</td>\n      <td>positive</td>\n      <td>1</td>\n    </tr>\n    <tr>\n      <th>1</th>\n      <td>A wonderful little production. &lt;br /&gt;&lt;br /&gt;The...</td>\n      <td>positive</td>\n      <td>1</td>\n    </tr>\n    <tr>\n      <th>2</th>\n      <td>I thought this was a wonderful way to spend ti...</td>\n      <td>positive</td>\n      <td>1</td>\n    </tr>\n    <tr>\n      <th>3</th>\n      <td>Basically there's a family where a little boy ...</td>\n      <td>negative</td>\n      <td>0</td>\n    </tr>\n    <tr>\n      <th>4</th>\n      <td>Petter Mattei's \"Love in the Time of Money\" is...</td>\n      <td>positive</td>\n      <td>1</td>\n    </tr>\n  </tbody>\n</table>\n</div>"
          },
          "metadata": {}
        }
      ]
    },
    {
      "cell_type": "code",
      "source": [
        "tokenizer = transformers.AutoTokenizer.from_pretrained(\"/kaggle/input/lecture-5-imdb-review-clf/my-model/\")\n",
        "model = transformers.AutoModelForSequenceClassification.from_pretrained(\"/kaggle/input/lecture-5-imdb-review-clf/my-model/\")"
      ],
      "metadata": {
        "execution": {
          "iopub.status.busy": "2024-08-18T05:13:48.817302Z",
          "iopub.execute_input": "2024-08-18T05:13:48.817619Z",
          "iopub.status.idle": "2024-08-18T05:13:48.925813Z",
          "shell.execute_reply.started": "2024-08-18T05:13:48.817581Z",
          "shell.execute_reply": "2024-08-18T05:13:48.924711Z"
        },
        "trusted": true,
        "id": "fhJDBVxHJegg"
      },
      "execution_count": null,
      "outputs": []
    },
    {
      "cell_type": "code",
      "source": [
        "ds = TextDataset(df)"
      ],
      "metadata": {
        "execution": {
          "iopub.status.busy": "2024-08-18T05:13:48.927472Z",
          "iopub.execute_input": "2024-08-18T05:13:48.928255Z",
          "iopub.status.idle": "2024-08-18T05:13:48.934014Z",
          "shell.execute_reply.started": "2024-08-18T05:13:48.928225Z",
          "shell.execute_reply": "2024-08-18T05:13:48.932984Z"
        },
        "trusted": true,
        "id": "aTX5AQZ0Jegg"
      },
      "execution_count": null,
      "outputs": []
    },
    {
      "cell_type": "code",
      "source": [
        "[ds[0], ds[1]]"
      ],
      "metadata": {
        "execution": {
          "iopub.status.busy": "2024-08-18T05:13:48.936501Z",
          "iopub.execute_input": "2024-08-18T05:13:48.937154Z",
          "iopub.status.idle": "2024-08-18T05:13:48.949694Z",
          "shell.execute_reply.started": "2024-08-18T05:13:48.937124Z",
          "shell.execute_reply": "2024-08-18T05:13:48.948645Z"
        },
        "trusted": true,
        "id": "lI0wG5DcJegg",
        "outputId": "93e74991-16fe-40cb-b191-5eb6f3a476e2"
      },
      "execution_count": null,
      "outputs": [
        {
          "execution_count": 27,
          "output_type": "execute_result",
          "data": {
            "text/plain": "[{'input_ids': tensor([  101,  2028,  1997,  1996,  2060, 15814,  2038,  3855,  2008,   102]),\n  'attention_mask': tensor([1, 1, 1, 1, 1, 1, 1, 1, 1, 1])},\n {'input_ids': tensor([ 101, 1037, 6919, 2210, 2537, 1012, 1026, 7987, 1013,  102]),\n  'attention_mask': tensor([1, 1, 1, 1, 1, 1, 1, 1, 1, 1])}]"
          },
          "metadata": {}
        }
      ]
    },
    {
      "cell_type": "code",
      "source": [
        "dl = torch.utils.data.DataLoader(\n",
        "    ds,\n",
        "    batch_size=2,\n",
        "    shuffle=False,\n",
        "    num_workers=2,\n",
        ")"
      ],
      "metadata": {
        "execution": {
          "iopub.status.busy": "2024-08-18T05:13:49.032079Z",
          "iopub.execute_input": "2024-08-18T05:13:49.032480Z",
          "iopub.status.idle": "2024-08-18T05:13:49.037990Z",
          "shell.execute_reply.started": "2024-08-18T05:13:49.032449Z",
          "shell.execute_reply": "2024-08-18T05:13:49.036872Z"
        },
        "trusted": true,
        "id": "x4qHS5ODJegh"
      },
      "execution_count": null,
      "outputs": []
    },
    {
      "cell_type": "code",
      "source": [
        "model.to(\"cuda\")"
      ],
      "metadata": {
        "id": "tXwYoM3LJegh"
      },
      "execution_count": null,
      "outputs": []
    },
    {
      "cell_type": "code",
      "source": [
        "for idx, batch in enumerate(dl):\n",
        "    print(batch)\n",
        "\n",
        "    batch = {key: value.to('cuda') for k, v in batch.items()}\n",
        "\n",
        "    with torch.no_grad():\n",
        "        out = model(input_ids=batch[\"input_ids\"], attention_mask=batch[\"attention_mask\"])\n",
        "\n",
        "    if idx == 5:\n",
        "        break"
      ],
      "metadata": {
        "execution": {
          "iopub.status.busy": "2024-08-18T05:20:25.037526Z",
          "iopub.execute_input": "2024-08-18T05:20:25.038312Z",
          "iopub.status.idle": "2024-08-18T05:20:25.073240Z",
          "shell.execute_reply.started": "2024-08-18T05:20:25.038276Z",
          "shell.execute_reply": "2024-08-18T05:20:25.072017Z"
        },
        "trusted": true,
        "id": "-hF3Ky6zJegh",
        "outputId": "d1fd1bbf-70ec-442e-d2e5-dcb7c4d5d3ee"
      },
      "execution_count": null,
      "outputs": [
        {
          "name": "stdout",
          "text": "{'input_ids': tensor([[  101,  2028,  1997,  1996,  2060, 15814,  2038,  3855,  2008,   102],\n        [  101,  1037,  6919,  2210,  2537,  1012,  1026,  7987,  1013,   102]]), 'attention_mask': tensor([[1, 1, 1, 1, 1, 1, 1, 1, 1, 1],\n        [1, 1, 1, 1, 1, 1, 1, 1, 1, 1]])}\n{'input_ids': tensor([[  101,  1045,  2245,  2023,  2001,  1037,  6919,  2126,  2000,   102],\n        [  101, 10468,  2045,  1005,  1055,  1037,  2155,  2073,  1037,   102]]), 'attention_mask': tensor([[1, 1, 1, 1, 1, 1, 1, 1, 1, 1],\n        [1, 1, 1, 1, 1, 1, 1, 1, 1, 1]])}\n{'input_ids': tensor([[ 101, 9004, 3334, 4717, 7416, 1005, 1055, 1000, 2293,  102],\n        [ 101, 2763, 2026, 2035, 1011, 2051, 5440, 3185, 1010,  102]]), 'attention_mask': tensor([[1, 1, 1, 1, 1, 1, 1, 1, 1, 1],\n        [1, 1, 1, 1, 1, 1, 1, 1, 1, 1]])}\n{'input_ids': tensor([[  101,  1045,  2469,  2052,  2066,  2000,  2156,  1037, 15218,   102],\n        [  101,  2023,  2265,  2001,  2019,  6429,  1010,  4840,  1004,   102]]), 'attention_mask': tensor([[1, 1, 1, 1, 1, 1, 1, 1, 1, 1],\n        [1, 1, 1, 1, 1, 1, 1, 1, 1, 1]])}\n{'input_ids': tensor([[  101,  6628,  2011,  1996,  3893,  7928,  2055,  2023,  2143,   102],\n        [  101,  2065,  2017,  2066,  2434,  9535, 16255,  8450,  7239,   102]]), 'attention_mask': tensor([[1, 1, 1, 1, 1, 1, 1, 1, 1, 1],\n        [1, 1, 1, 1, 1, 1, 1, 1, 1, 1]])}\n{'input_ids': tensor([[  101,  6316,  1996,  7344,  2003,  2028,  1997,  2216, 21864,   102],\n        [  101,  1045,  2387,  2023,  3185,  2043,  1045,  2001,  2055,   102]]), 'attention_mask': tensor([[1, 1, 1, 1, 1, 1, 1, 1, 1, 1],\n        [1, 1, 1, 1, 1, 1, 1, 1, 1, 1]])}\n",
          "output_type": "stream"
        }
      ]
    },
    {
      "cell_type": "code",
      "source": [
        "batch"
      ],
      "metadata": {
        "execution": {
          "iopub.status.busy": "2024-08-18T05:15:42.441852Z",
          "iopub.execute_input": "2024-08-18T05:15:42.442676Z",
          "iopub.status.idle": "2024-08-18T05:15:42.451065Z",
          "shell.execute_reply.started": "2024-08-18T05:15:42.442641Z",
          "shell.execute_reply": "2024-08-18T05:15:42.449751Z"
        },
        "trusted": true,
        "id": "iV5TGgfjJegi",
        "outputId": "0bbe9fa9-93fd-4208-ce0e-a2d80fa90632"
      },
      "execution_count": null,
      "outputs": [
        {
          "execution_count": 32,
          "output_type": "execute_result",
          "data": {
            "text/plain": "{'input_ids': tensor([[  101,  2028,  1997,  1996,  2060, 15814,  2038,  3855,  2008,   102],\n         [  101,  1037,  6919,  2210,  2537,  1012,  1026,  7987,  1013,   102]]),\n 'attention_mask': tensor([[1, 1, 1, 1, 1, 1, 1, 1, 1, 1],\n         [1, 1, 1, 1, 1, 1, 1, 1, 1, 1]])}"
          },
          "metadata": {}
        }
      ]
    },
    {
      "cell_type": "code",
      "source": [
        "model.eval()\n",
        "\n"
      ],
      "metadata": {
        "execution": {
          "iopub.status.busy": "2024-08-18T05:16:20.339292Z",
          "iopub.execute_input": "2024-08-18T05:16:20.339730Z",
          "iopub.status.idle": "2024-08-18T05:16:20.362758Z",
          "shell.execute_reply.started": "2024-08-18T05:16:20.339698Z",
          "shell.execute_reply": "2024-08-18T05:16:20.361401Z"
        },
        "trusted": true,
        "id": "y4LeO-FxJegj"
      },
      "execution_count": null,
      "outputs": []
    },
    {
      "cell_type": "code",
      "source": [
        "out"
      ],
      "metadata": {
        "execution": {
          "iopub.status.busy": "2024-08-18T05:13:52.328922Z",
          "iopub.execute_input": "2024-08-18T05:13:52.329525Z",
          "iopub.status.idle": "2024-08-18T05:13:52.357748Z",
          "shell.execute_reply.started": "2024-08-18T05:13:52.329493Z",
          "shell.execute_reply": "2024-08-18T05:13:52.356635Z"
        },
        "trusted": true,
        "id": "p-HRW_BMJegk",
        "outputId": "d66a6b6e-6d1e-4fbc-e94e-3af634f4a08e"
      },
      "execution_count": null,
      "outputs": [
        {
          "execution_count": 31,
          "output_type": "execute_result",
          "data": {
            "text/plain": "SequenceClassifierOutput(loss=None, logits=tensor([[-1.0424,  0.9889],\n        [-1.1137,  1.0554]]), hidden_states=None, attentions=None)"
          },
          "metadata": {}
        }
      ]
    },
    {
      "cell_type": "code",
      "source": [
        "pipe = transformers.pipeline(\n",
        "    \"text-classification\",\n",
        "    model=\"/kaggle/input/lecture-5-imdb-review-clf/my-model/\",\n",
        "    batch_size=4\n",
        ")"
      ],
      "metadata": {
        "execution": {
          "iopub.status.busy": "2024-08-18T05:31:02.532480Z",
          "iopub.execute_input": "2024-08-18T05:31:02.532911Z",
          "iopub.status.idle": "2024-08-18T05:31:02.654384Z",
          "shell.execute_reply.started": "2024-08-18T05:31:02.532882Z",
          "shell.execute_reply": "2024-08-18T05:31:02.653392Z"
        },
        "trusted": true,
        "id": "IlIFTSBQJegk"
      },
      "execution_count": null,
      "outputs": []
    },
    {
      "cell_type": "code",
      "source": [
        "pipe([\"I hated how good the movie was.\"] * 10)"
      ],
      "metadata": {
        "execution": {
          "iopub.status.busy": "2024-08-18T05:33:31.121002Z",
          "iopub.execute_input": "2024-08-18T05:33:31.121437Z",
          "iopub.status.idle": "2024-08-18T05:33:31.167801Z",
          "shell.execute_reply.started": "2024-08-18T05:33:31.121408Z",
          "shell.execute_reply": "2024-08-18T05:33:31.166744Z"
        },
        "trusted": true,
        "id": "Pg6hHOnfJegk",
        "outputId": "5236686b-1eea-4bc8-f9b4-2e2726a3abe8"
      },
      "execution_count": null,
      "outputs": [
        {
          "execution_count": 39,
          "output_type": "execute_result",
          "data": {
            "text/plain": "[{'label': 'negative', 'score': 0.8399201035499573},\n {'label': 'negative', 'score': 0.8399200439453125},\n {'label': 'negative', 'score': 0.8399201035499573},\n {'label': 'negative', 'score': 0.8399200439453125},\n {'label': 'negative', 'score': 0.8399201035499573},\n {'label': 'negative', 'score': 0.8399200439453125},\n {'label': 'negative', 'score': 0.8399201035499573},\n {'label': 'negative', 'score': 0.8399200439453125},\n {'label': 'negative', 'score': 0.839920163154602},\n {'label': 'negative', 'score': 0.8399200439453125}]"
          },
          "metadata": {}
        }
      ]
    },
    {
      "cell_type": "code",
      "source": [],
      "metadata": {
        "id": "QMN0NN52Jegl"
      },
      "execution_count": null,
      "outputs": []
    }
  ]
}
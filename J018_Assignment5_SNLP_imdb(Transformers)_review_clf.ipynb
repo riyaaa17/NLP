{
  "metadata": {
    "kernelspec": {
      "language": "python",
      "display_name": "Python 3",
      "name": "python3"
    },
    "language_info": {
      "name": "python",
      "version": "3.10.13",
      "mimetype": "text/x-python",
      "codemirror_mode": {
        "name": "ipython",
        "version": 3
      },
      "pygments_lexer": "ipython3",
      "nbconvert_exporter": "python",
      "file_extension": ".py"
    },
    "kaggle": {
      "accelerator": "gpu",
      "dataSources": [
        {
          "sourceId": 320111,
          "sourceType": "datasetVersion",
          "datasetId": 134715
        }
      ],
      "dockerImageVersionId": 30747,
      "isInternetEnabled": true,
      "language": "python",
      "sourceType": "notebook",
      "isGpuEnabled": true
    },
    "colab": {
      "provenance": []
    }
  },
  "nbformat_minor": 0,
  "nbformat": 4,
  "cells": [
    {
      "cell_type": "code",
      "source": [
        "import torch\n",
        "import transformers\n",
        "import pandas as pd\n",
        "import numpy as np\n",
        "\n",
        "from sklearn import model_selection, metrics"
      ],
      "metadata": {
        "_uuid": "8f2839f25d086af736a60e9eeb907d3b93b6e0e5",
        "_cell_guid": "b1076dfc-b9ad-4769-8c92-a6c4dae69d19",
        "execution": {
          "iopub.status.busy": "2024-08-18T04:22:33.359918Z",
          "iopub.execute_input": "2024-08-18T04:22:33.360194Z",
          "iopub.status.idle": "2024-08-18T04:22:36.392132Z",
          "shell.execute_reply.started": "2024-08-18T04:22:33.360168Z",
          "shell.execute_reply": "2024-08-18T04:22:36.391149Z"
        },
        "trusted": true,
        "id": "ZNAIxShbJdkv"
      },
      "execution_count": null,
      "outputs": []
    },
    {
      "cell_type": "code",
      "source": [
        "\"\"\"\n",
        "* Dataset class\n",
        "* Model\n",
        "* Trainer - training arguments\n",
        "\"\"\""
      ],
      "metadata": {
        "execution": {
          "iopub.status.busy": "2024-08-18T04:22:36.393188Z",
          "iopub.execute_input": "2024-08-18T04:22:36.393621Z",
          "iopub.status.idle": "2024-08-18T04:22:36.400506Z",
          "shell.execute_reply.started": "2024-08-18T04:22:36.393594Z",
          "shell.execute_reply": "2024-08-18T04:22:36.399563Z"
        },
        "trusted": true,
        "id": "-a9Ea51uJdkw",
        "outputId": "fb7f6b17-5cf7-4af1-999e-03ca9e2617b1"
      },
      "execution_count": null,
      "outputs": [
        {
          "execution_count": 2,
          "output_type": "execute_result",
          "data": {
            "text/plain": "'\\n* Dataset class\\n* Model\\n* Trainer - training arguments\\n'"
          },
          "metadata": {}
        }
      ]
    },
    {
      "cell_type": "code",
      "source": [
        "config = {\n",
        "    \"max_length\": 360,\n",
        "    \"model_path\": \"microsoft/xtremedistil-l6-h256-uncased\",\n",
        "\n",
        "    \"output_dir\": \"./my-model\",\n",
        "    \"train_batch_size\": 64,\n",
        "    \"valid_batch_size\": 64,\n",
        "    \"learning_rate\": 3e-5,\n",
        "    \"epochs\": 3,\n",
        "\n",
        "    \"debug\": True,\n",
        "}"
      ],
      "metadata": {
        "execution": {
          "iopub.status.busy": "2024-08-18T04:22:36.401845Z",
          "iopub.execute_input": "2024-08-18T04:22:36.402194Z",
          "iopub.status.idle": "2024-08-18T04:22:36.410747Z",
          "shell.execute_reply.started": "2024-08-18T04:22:36.402162Z",
          "shell.execute_reply": "2024-08-18T04:22:36.409866Z"
        },
        "trusted": true,
        "id": "KQR5usKJJdkz"
      },
      "execution_count": null,
      "outputs": []
    },
    {
      "cell_type": "code",
      "source": [
        "class TextDataset:\n",
        "\n",
        "    def __init__(self, data):\n",
        "        self.data = data\n",
        "\n",
        "    def __len__(self):\n",
        "        return self.data.shape[0]\n",
        "\n",
        "    def __getitem__(self, idx):\n",
        "        row = self.data.iloc[idx]\n",
        "\n",
        "        enc = ...\n",
        "\n",
        "        return {\n",
        "            \"input_ids\": torch.tensor(enc[\"input_ids\"]),\n",
        "            \"attention_mask\": torch.tensor(enc[\"attention_mask\"]),\n",
        "            \"label\": torch.tensor(row[\"label\"]),\n",
        "        }"
      ],
      "metadata": {
        "execution": {
          "iopub.status.busy": "2024-08-18T04:22:36.413044Z",
          "iopub.execute_input": "2024-08-18T04:22:36.413341Z",
          "iopub.status.idle": "2024-08-18T04:22:36.422196Z",
          "shell.execute_reply.started": "2024-08-18T04:22:36.413318Z",
          "shell.execute_reply": "2024-08-18T04:22:36.421269Z"
        },
        "trusted": true,
        "id": "9rR03p7vJdk0"
      },
      "execution_count": null,
      "outputs": []
    },
    {
      "cell_type": "code",
      "source": [],
      "metadata": {
        "trusted": true,
        "id": "DeRwaZDkJdk1"
      },
      "execution_count": null,
      "outputs": []
    },
    {
      "cell_type": "code",
      "source": [
        "df = pd.read_csv(\"/kaggle/input/imdb-dataset-of-50k-movie-reviews/IMDB Dataset.csv\").rename(columns={\"review\": \"text\"})\n",
        "\n",
        "id2label = {0: \"negative\", 1: \"positive\"}\n",
        "label2id = {label: id_ for id_, label in id2label.items()}\n",
        "\n",
        "df[\"label\"] = df[\"sentiment\"].map(label2id)\n",
        "\n",
        "if config[\"debug\"]:\n",
        "    print(\"DEBUG MODE!\")\n",
        "    df = df.sample(10_000, random_state=123)\n",
        "\n",
        "print(df.shape)\n",
        "df.head()"
      ],
      "metadata": {
        "execution": {
          "iopub.status.busy": "2024-08-18T04:22:36.423334Z",
          "iopub.execute_input": "2024-08-18T04:22:36.423588Z",
          "iopub.status.idle": "2024-08-18T04:22:37.085280Z",
          "shell.execute_reply.started": "2024-08-18T04:22:36.423566Z",
          "shell.execute_reply": "2024-08-18T04:22:37.084276Z"
        },
        "trusted": true,
        "id": "Ltp7yTa_Jdk2",
        "outputId": "ad9c0ea5-4214-4f58-92a0-3a00ce4c55c6"
      },
      "execution_count": null,
      "outputs": [
        {
          "name": "stdout",
          "text": "DEBUG MODE!\n(10000, 3)\n",
          "output_type": "stream"
        },
        {
          "execution_count": 5,
          "output_type": "execute_result",
          "data": {
            "text/plain": "                                                    text sentiment  label\n11872  This movie was beyond awful, it was a pimple o...  negative      0\n40828  As of this writing John Carpenter's 'Halloween...  positive      1\n36400  I must admit a slight disappointment with this...  positive      1\n5166   Oh dear! The BBC is not about to be knocked of...  negative      0\n30273  its a totally average film with a few semi-alr...  negative      0",
            "text/html": "<div>\n<style scoped>\n    .dataframe tbody tr th:only-of-type {\n        vertical-align: middle;\n    }\n\n    .dataframe tbody tr th {\n        vertical-align: top;\n    }\n\n    .dataframe thead th {\n        text-align: right;\n    }\n</style>\n<table border=\"1\" class=\"dataframe\">\n  <thead>\n    <tr style=\"text-align: right;\">\n      <th></th>\n      <th>text</th>\n      <th>sentiment</th>\n      <th>label</th>\n    </tr>\n  </thead>\n  <tbody>\n    <tr>\n      <th>11872</th>\n      <td>This movie was beyond awful, it was a pimple o...</td>\n      <td>negative</td>\n      <td>0</td>\n    </tr>\n    <tr>\n      <th>40828</th>\n      <td>As of this writing John Carpenter's 'Halloween...</td>\n      <td>positive</td>\n      <td>1</td>\n    </tr>\n    <tr>\n      <th>36400</th>\n      <td>I must admit a slight disappointment with this...</td>\n      <td>positive</td>\n      <td>1</td>\n    </tr>\n    <tr>\n      <th>5166</th>\n      <td>Oh dear! The BBC is not about to be knocked of...</td>\n      <td>negative</td>\n      <td>0</td>\n    </tr>\n    <tr>\n      <th>30273</th>\n      <td>its a totally average film with a few semi-alr...</td>\n      <td>negative</td>\n      <td>0</td>\n    </tr>\n  </tbody>\n</table>\n</div>"
          },
          "metadata": {}
        }
      ]
    },
    {
      "cell_type": "code",
      "source": [
        "tokenizer = transformers.AutoTokenizer.from_pretrained(config[\"model_path\"])"
      ],
      "metadata": {
        "execution": {
          "iopub.status.busy": "2024-08-18T04:22:37.086481Z",
          "iopub.execute_input": "2024-08-18T04:22:37.086742Z",
          "iopub.status.idle": "2024-08-18T04:22:37.635296Z",
          "shell.execute_reply.started": "2024-08-18T04:22:37.086720Z",
          "shell.execute_reply": "2024-08-18T04:22:37.634268Z"
        },
        "trusted": true,
        "id": "ZGl-iwoOJdk5"
      },
      "execution_count": null,
      "outputs": []
    },
    {
      "cell_type": "code",
      "source": [
        "train, valid = model_selection.train_test_split(\n",
        "    df,\n",
        "    test_size=0.2,\n",
        "    random_state=1123,\n",
        "    shuffle=True,\n",
        "    stratify=df[\"label\"]\n",
        ")"
      ],
      "metadata": {
        "execution": {
          "iopub.status.busy": "2024-08-18T04:22:37.636575Z",
          "iopub.execute_input": "2024-08-18T04:22:37.636873Z",
          "iopub.status.idle": "2024-08-18T04:22:37.650018Z",
          "shell.execute_reply.started": "2024-08-18T04:22:37.636849Z",
          "shell.execute_reply": "2024-08-18T04:22:37.649015Z"
        },
        "trusted": true,
        "id": "efnsw61KJdk6"
      },
      "execution_count": null,
      "outputs": []
    },
    {
      "cell_type": "code",
      "source": [
        "train_ds = TextDataset(train)\n",
        "valid_ds = TextDataset(valid)"
      ],
      "metadata": {
        "execution": {
          "iopub.status.busy": "2024-08-18T04:22:37.651236Z",
          "iopub.execute_input": "2024-08-18T04:22:37.651600Z",
          "iopub.status.idle": "2024-08-18T04:22:37.656461Z",
          "shell.execute_reply.started": "2024-08-18T04:22:37.651567Z",
          "shell.execute_reply": "2024-08-18T04:22:37.655402Z"
        },
        "trusted": true,
        "id": "FI5jx_hhJdk7"
      },
      "execution_count": null,
      "outputs": []
    },
    {
      "cell_type": "code",
      "source": [
        "valid_ds[0]"
      ],
      "metadata": {
        "execution": {
          "iopub.status.busy": "2024-08-18T04:22:37.657601Z",
          "iopub.execute_input": "2024-08-18T04:22:37.657902Z",
          "iopub.status.idle": "2024-08-18T04:22:37.673403Z",
          "shell.execute_reply.started": "2024-08-18T04:22:37.657878Z",
          "shell.execute_reply": "2024-08-18T04:22:37.672438Z"
        },
        "trusted": true,
        "id": "zgfvRQTVJdk7",
        "outputId": "29f1a0bb-e0a6-4af8-94c3-371d2df2d30e"
      },
      "execution_count": null,
      "outputs": [
        {
          "execution_count": 9,
          "output_type": "execute_result",
          "data": {
            "text/plain": "{'input_ids': tensor([  101,  6240, 18510,  2573,  2049,  2126,  2046, 11450,  1010,  2066,\n          2053,  2060,  3185,  1012,  2926,  2076,  2621,  1012,  3251,  2009,\n          1005,  1055,  1996,  2299,  2055,  1996, 25022,  3215,  1006, 17220,\n          2015,  1999,  2731,  1007,  2030,  1996,  3013,  1011, 12482,  2030,\n          1996, 28676, 18254,  1996, 10442,  2030,  2009,  2074,  2987,  1005,\n          1056,  3043,  4613,  1012,  1012,  1012,  2009, 16949,  2039,   999,\n          3532, 11021,  1013, 22294,  2100,  1010,  2040,  4282,  2073,  2002,\n          1005,  1040,  5256,  2039,  2279,   999,  1029,   999,  2107,  1037,\n          2307, 20057, 12326,  1997,  1996, 26232,  1998,  1037,  3451, 12696,\n          2005,  2026,  4245,  1997,  2216,  2040,  3305,  2008,  2512,  1011,\n          7473,  2003,  2428,  6057,  1010,  2053,  3043,  2040,  2017,  2024,\n           999,  7787,  1998, 12403,  2480,  2024, 20672,  1010,  2004,  2003,\n          1996,  2980,  3899,  5983,  5049,  2007,  1996,  3297,  2240,  1000,\n          2054,  1012,  1012,  1029,  2053, 23187,  1029,  1000,  2821,  1010,\n          2129,  2116,  2335,  1045,  1005,  2310, 28960,  2008,  2240,  1998,\n          2042,  1996,  2069,  2028,  5870,   999,  4067,  2017,  2000,  1996,\n          4898,  1010,  5889,  1998,  5501,   999, 20737,  1010, 20737,   999,\n           102,     0,     0,     0,     0,     0,     0,     0,     0,     0,\n             0,     0,     0,     0,     0,     0,     0,     0,     0,     0,\n             0,     0,     0,     0,     0,     0,     0,     0,     0,     0,\n             0,     0,     0,     0,     0,     0,     0,     0,     0,     0,\n             0,     0,     0,     0,     0,     0,     0,     0,     0,     0,\n             0,     0,     0,     0,     0,     0,     0,     0,     0,     0,\n             0,     0,     0,     0,     0,     0,     0,     0,     0,     0,\n             0,     0,     0,     0,     0,     0,     0,     0,     0,     0,\n             0,     0,     0,     0,     0,     0,     0,     0,     0,     0,\n             0,     0,     0,     0,     0,     0,     0,     0,     0,     0,\n             0,     0,     0,     0,     0,     0,     0,     0,     0,     0,\n             0,     0,     0,     0,     0,     0,     0,     0,     0,     0,\n             0,     0,     0,     0,     0,     0,     0,     0,     0,     0,\n             0,     0,     0,     0,     0,     0,     0,     0,     0,     0,\n             0,     0,     0,     0,     0,     0,     0,     0,     0,     0,\n             0,     0,     0,     0,     0,     0,     0,     0,     0,     0,\n             0,     0,     0,     0,     0,     0,     0,     0,     0,     0,\n             0,     0,     0,     0,     0,     0,     0,     0,     0,     0,\n             0,     0,     0,     0,     0,     0,     0,     0,     0,     0]),\n 'attention_mask': tensor([1, 1, 1, 1, 1, 1, 1, 1, 1, 1, 1, 1, 1, 1, 1, 1, 1, 1, 1, 1, 1, 1, 1, 1,\n         1, 1, 1, 1, 1, 1, 1, 1, 1, 1, 1, 1, 1, 1, 1, 1, 1, 1, 1, 1, 1, 1, 1, 1,\n         1, 1, 1, 1, 1, 1, 1, 1, 1, 1, 1, 1, 1, 1, 1, 1, 1, 1, 1, 1, 1, 1, 1, 1,\n         1, 1, 1, 1, 1, 1, 1, 1, 1, 1, 1, 1, 1, 1, 1, 1, 1, 1, 1, 1, 1, 1, 1, 1,\n         1, 1, 1, 1, 1, 1, 1, 1, 1, 1, 1, 1, 1, 1, 1, 1, 1, 1, 1, 1, 1, 1, 1, 1,\n         1, 1, 1, 1, 1, 1, 1, 1, 1, 1, 1, 1, 1, 1, 1, 1, 1, 1, 1, 1, 1, 1, 1, 1,\n         1, 1, 1, 1, 1, 1, 1, 1, 1, 1, 1, 1, 1, 1, 1, 1, 1, 1, 1, 1, 1, 1, 1, 1,\n         1, 1, 1, 0, 0, 0, 0, 0, 0, 0, 0, 0, 0, 0, 0, 0, 0, 0, 0, 0, 0, 0, 0, 0,\n         0, 0, 0, 0, 0, 0, 0, 0, 0, 0, 0, 0, 0, 0, 0, 0, 0, 0, 0, 0, 0, 0, 0, 0,\n         0, 0, 0, 0, 0, 0, 0, 0, 0, 0, 0, 0, 0, 0, 0, 0, 0, 0, 0, 0, 0, 0, 0, 0,\n         0, 0, 0, 0, 0, 0, 0, 0, 0, 0, 0, 0, 0, 0, 0, 0, 0, 0, 0, 0, 0, 0, 0, 0,\n         0, 0, 0, 0, 0, 0, 0, 0, 0, 0, 0, 0, 0, 0, 0, 0, 0, 0, 0, 0, 0, 0, 0, 0,\n         0, 0, 0, 0, 0, 0, 0, 0, 0, 0, 0, 0, 0, 0, 0, 0, 0, 0, 0, 0, 0, 0, 0, 0,\n         0, 0, 0, 0, 0, 0, 0, 0, 0, 0, 0, 0, 0, 0, 0, 0, 0, 0, 0, 0, 0, 0, 0, 0,\n         0, 0, 0, 0, 0, 0, 0, 0, 0, 0, 0, 0, 0, 0, 0, 0, 0, 0, 0, 0, 0, 0, 0, 0]),\n 'label': tensor(1)}"
          },
          "metadata": {}
        }
      ]
    },
    {
      "cell_type": "code",
      "source": [
        "model = transformers.AutoModelForSequenceClassification.from_pretrained(...)"
      ],
      "metadata": {
        "execution": {
          "iopub.status.busy": "2024-08-18T04:22:37.674448Z",
          "iopub.execute_input": "2024-08-18T04:22:37.674748Z",
          "iopub.status.idle": "2024-08-18T04:22:38.195785Z",
          "shell.execute_reply.started": "2024-08-18T04:22:37.674724Z",
          "shell.execute_reply": "2024-08-18T04:22:38.194813Z"
        },
        "trusted": true,
        "id": "Nyh0JKFwJdk8",
        "outputId": "ba843bf0-40d7-4f10-d688-0961c67820f8"
      },
      "execution_count": null,
      "outputs": [
        {
          "name": "stderr",
          "text": "/opt/conda/lib/python3.10/site-packages/torch/_utils.py:831: UserWarning: TypedStorage is deprecated. It will be removed in the future and UntypedStorage will be the only storage class. This should only matter to you if you are using storages directly.  To access UntypedStorage directly, use tensor.untyped_storage() instead of tensor.storage()\n  return self.fget.__get__(instance, owner)()\nSome weights of BertForSequenceClassification were not initialized from the model checkpoint at microsoft/xtremedistil-l6-h256-uncased and are newly initialized: ['classifier.bias', 'classifier.weight']\nYou should probably TRAIN this model on a down-stream task to be able to use it for predictions and inference.\n",
          "output_type": "stream"
        }
      ]
    },
    {
      "cell_type": "code",
      "source": [
        "def compute_metrics(eval_data):\n",
        "    ...\n",
        "\n",
        "    preds = np.argmax(logits, -1)\n",
        "    return {\n",
        "        \"f1\": metrics.f1_score(labels, preds)\n",
        "    }\n",
        "\n",
        "training_args = transformers.TrainingArguments(\n",
        "    ...\n",
        ")"
      ],
      "metadata": {
        "execution": {
          "iopub.status.busy": "2024-08-18T04:22:38.197093Z",
          "iopub.execute_input": "2024-08-18T04:22:38.197553Z",
          "iopub.status.idle": "2024-08-18T04:22:38.293400Z",
          "shell.execute_reply.started": "2024-08-18T04:22:38.197525Z",
          "shell.execute_reply": "2024-08-18T04:22:38.292345Z"
        },
        "trusted": true,
        "id": "RI2tI6VgJdk-"
      },
      "execution_count": null,
      "outputs": []
    },
    {
      "cell_type": "code",
      "source": [
        "trainer = transformers.Trainer(\n",
        "    ...\n",
        ")"
      ],
      "metadata": {
        "execution": {
          "iopub.status.busy": "2024-08-18T04:22:38.294632Z",
          "iopub.execute_input": "2024-08-18T04:22:38.294942Z",
          "iopub.status.idle": "2024-08-18T04:22:41.948245Z",
          "shell.execute_reply.started": "2024-08-18T04:22:38.294916Z",
          "shell.execute_reply": "2024-08-18T04:22:41.947405Z"
        },
        "trusted": true,
        "id": "DBNp4Mn0Jdk-",
        "outputId": "ab02ba77-b059-4286-a80b-b12b65eb75b5"
      },
      "execution_count": null,
      "outputs": [
        {
          "name": "stderr",
          "text": "2024-08-18 04:22:38.690218: E external/local_xla/xla/stream_executor/cuda/cuda_dnn.cc:9261] Unable to register cuDNN factory: Attempting to register factory for plugin cuDNN when one has already been registered\n2024-08-18 04:22:38.690288: E external/local_xla/xla/stream_executor/cuda/cuda_fft.cc:607] Unable to register cuFFT factory: Attempting to register factory for plugin cuFFT when one has already been registered\n2024-08-18 04:22:38.691723: E external/local_xla/xla/stream_executor/cuda/cuda_blas.cc:1515] Unable to register cuBLAS factory: Attempting to register factory for plugin cuBLAS when one has already been registered\n",
          "output_type": "stream"
        }
      ]
    },
    {
      "cell_type": "code",
      "source": [
        "trainer.train()"
      ],
      "metadata": {
        "execution": {
          "iopub.status.busy": "2024-08-18T04:22:41.951957Z",
          "iopub.execute_input": "2024-08-18T04:22:41.952591Z",
          "iopub.status.idle": "2024-08-18T04:25:30.993446Z",
          "shell.execute_reply.started": "2024-08-18T04:22:41.952563Z",
          "shell.execute_reply": "2024-08-18T04:25:30.992594Z"
        },
        "trusted": true,
        "id": "VX4hSf98Jdk-",
        "outputId": "809c1ac3-b630-4ebf-f4d0-5e66c0b70b48"
      },
      "execution_count": null,
      "outputs": [
        {
          "output_type": "display_data",
          "data": {
            "text/plain": "<IPython.core.display.HTML object>",
            "text/html": "\n    <div>\n      \n      <progress value='375' max='375' style='width:300px; height:20px; vertical-align: middle;'></progress>\n      [375/375 02:47, Epoch 3/3]\n    </div>\n    <table border=\"1\" class=\"dataframe\">\n  <thead>\n <tr style=\"text-align: left;\">\n      <th>Epoch</th>\n      <th>Training Loss</th>\n      <th>Validation Loss</th>\n      <th>F1</th>\n    </tr>\n  </thead>\n  <tbody>\n    <tr>\n      <td>1</td>\n      <td>No log</td>\n      <td>0.369787</td>\n      <td>0.872180</td>\n    </tr>\n    <tr>\n      <td>2</td>\n      <td>No log</td>\n      <td>0.329566</td>\n      <td>0.880363</td>\n    </tr>\n    <tr>\n      <td>3</td>\n      <td>No log</td>\n      <td>0.324610</td>\n      <td>0.877582</td>\n    </tr>\n  </tbody>\n</table><p>"
          },
          "metadata": {}
        },
        {
          "execution_count": 13,
          "output_type": "execute_result",
          "data": {
            "text/plain": "TrainOutput(global_step=375, training_loss=0.3730139567057292, metrics={'train_runtime': 168.2729, 'train_samples_per_second': 142.625, 'train_steps_per_second': 2.229, 'total_flos': 249110795520000.0, 'train_loss': 0.3730139567057292, 'epoch': 3.0})"
          },
          "metadata": {}
        }
      ]
    },
    {
      "cell_type": "code",
      "source": [
        "trainer.save_state()"
      ],
      "metadata": {
        "execution": {
          "iopub.status.busy": "2024-08-18T04:25:30.994501Z",
          "iopub.execute_input": "2024-08-18T04:25:30.994757Z",
          "iopub.status.idle": "2024-08-18T04:25:30.999920Z",
          "shell.execute_reply.started": "2024-08-18T04:25:30.994734Z",
          "shell.execute_reply": "2024-08-18T04:25:30.999044Z"
        },
        "trusted": true,
        "id": "O9OF4sN1Jdk_"
      },
      "execution_count": null,
      "outputs": []
    },
    {
      "cell_type": "code",
      "source": [
        "trainer.save_model()"
      ],
      "metadata": {
        "execution": {
          "iopub.status.busy": "2024-08-18T04:25:31.001186Z",
          "iopub.execute_input": "2024-08-18T04:25:31.001521Z",
          "iopub.status.idle": "2024-08-18T04:25:31.161187Z",
          "shell.execute_reply.started": "2024-08-18T04:25:31.001491Z",
          "shell.execute_reply": "2024-08-18T04:25:31.160406Z"
        },
        "trusted": true,
        "id": "rPacKAlGJdk_"
      },
      "execution_count": null,
      "outputs": []
    },
    {
      "cell_type": "code",
      "source": [],
      "metadata": {
        "id": "cyp9QRNNJdk_"
      },
      "execution_count": null,
      "outputs": []
    }
  ]
}